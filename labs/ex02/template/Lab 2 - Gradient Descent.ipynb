{
  "cells": [
    {
      "cell_type": "code",
      "execution_count": 1,
      "metadata": {
        "id": "W-HyC2ZqHv3v"
      },
      "outputs": [],
      "source": [
        "# Useful starting lines\n",
        "%matplotlib inline\n",
        "import numpy as np\n",
        "import matplotlib.pyplot as plt\n",
        "%load_ext autoreload\n",
        "%autoreload 2"
      ]
    },
    {
      "cell_type": "code",
      "execution_count": 2,
      "metadata": {
        "colab": {
          "base_uri": "https://localhost:8080/"
        },
        "id": "A8mVglViHv3z",
        "outputId": "44874cc0-a5c9-4636-df1d-0049afb2142e"
      },
      "outputs": [
        {
          "output_type": "stream",
          "name": "stdout",
          "text": [
            "You are running Python 3. Good job :)\n"
          ]
        }
      ],
      "source": [
        "# Check the Python version\n",
        "import sys\n",
        "if sys.version.startswith(\"3.\"):\n",
        "  print(\"You are running Python 3. Good job :)\")\n",
        "else:\n",
        "  print(\"This notebook requires Python 3.\\nIf you are using Google Colab, go to Runtime > Change runtime type and choose Python 3.\")"
      ]
    },
    {
      "cell_type": "code",
      "execution_count": 7,
      "metadata": {
        "colab": {
          "base_uri": "https://localhost:8080/"
        },
        "id": "40WN44vKHv30",
        "outputId": "75780155-278e-4f22-cbce-c551c640d5b8"
      },
      "outputs": [
        {
          "output_type": "stream",
          "name": "stdout",
          "text": [
            "Cloning into 'cloned-repo'...\n",
            "warning: --local is ignored\n",
            "remote: Enumerating objects: 2663, done.\u001b[K\n",
            "remote: Counting objects: 100% (189/189), done.\u001b[K\n",
            "remote: Compressing objects: 100% (80/80), done.\u001b[K\n",
            "remote: Total 2663 (delta 135), reused 144 (delta 108), pack-reused 2474 (from 3)\u001b[K\n",
            "Receiving objects: 100% (2663/2663), 483.96 MiB | 37.17 MiB/s, done.\n",
            "Resolving deltas: 100% (1315/1315), done.\n",
            "/content/cloned-repo/labs/ex02/template/cloned-repo/labs/ex02/template\n"
          ]
        }
      ],
      "source": [
        "try:\n",
        "  import google.colab\n",
        "  IN_COLAB = True\n",
        "except:\n",
        "  IN_COLAB = False\n",
        "if IN_COLAB:\n",
        "  # Clone the entire repo to access the files.\n",
        "  !git clone -l -s https://github.com/epfml/OptML_course.git cloned-repo\n",
        "  %cd cloned-repo/labs/ex02/template/"
      ]
    },
    {
      "cell_type": "markdown",
      "metadata": {
        "id": "WwY_DoMpHv30"
      },
      "source": [
        "# Load the data"
      ]
    },
    {
      "cell_type": "code",
      "execution_count": 10,
      "metadata": {
        "id": "N2vYdD08Hv31"
      },
      "outputs": [],
      "source": [
        "import datetime\n",
        "from helpers import *\n",
        "\n",
        "height, weight, gender = load_data(sub_sample=False, add_outlier=False)\n",
        "x, mean_x, std_x = standardize(height)\n",
        "b, A = build_model_data(x, weight)"
      ]
    },
    {
      "cell_type": "code",
      "execution_count": 11,
      "metadata": {
        "colab": {
          "base_uri": "https://localhost:8080/"
        },
        "id": "mar-mmHQHv32",
        "outputId": "07cb80e9-cc33-4c7f-9329-07b3673ad963"
      },
      "outputs": [
        {
          "output_type": "stream",
          "name": "stdout",
          "text": [
            "Number of samples n =  10000\n",
            "Dimension of each sample d =  2\n"
          ]
        }
      ],
      "source": [
        "print('Number of samples n = ', b.shape[0])\n",
        "print('Dimension of each sample d = ', A.shape[1])"
      ]
    },
    {
      "cell_type": "markdown",
      "metadata": {
        "id": "XuxSmf2IHv33"
      },
      "source": [
        "# Least Squares Estimation\n",
        "Least squares estimation is one of the fundamental machine learning algorithms. Given an $ n \\times d $ matrix $A$ and a $ n \\times 1$ vector $b$, the goal is to find a vector $x \\in \\mathbb{R}^d$ which minimizes the objective function $$f(x) = \\frac{1}{2n} \\sum_{i=1}^{n} (a_i^\\top x - b_i)^2 = \\frac{1}{2n} \\|Ax - b\\|^2 $$\n",
        "\n",
        "In this exercise, we will try to fit $x$ using Least Squares Estimation.\n",
        "\n",
        "One can see the function is $L$ smooth with $L =\\frac1n\\|A^T A\\|  = \\frac1n\\|A\\|^2$ (Lemma 2.3 for the first equality, and a few manipulations for the second)."
      ]
    },
    {
      "cell_type": "markdown",
      "metadata": {
        "id": "GcgaXCA9Hv33"
      },
      "source": [
        "# Computing the Objective Function\n",
        "Fill in the `calculate_objective` function below:"
      ]
    },
    {
      "cell_type": "code",
      "execution_count": 12,
      "metadata": {
        "id": "mteKMjjJHv34"
      },
      "outputs": [],
      "source": [
        "def calculate_objective(Axmb):\n",
        "    \"\"\"Calculate the mean squared error for vector Axmb = Ax - b.\"\"\"\n",
        "    return 1/2*np.mean(Axmb**2)"
      ]
    },
    {
      "cell_type": "markdown",
      "metadata": {
        "id": "mNbV3c57Hv34"
      },
      "source": [
        "# Compute smoothness constant $L$"
      ]
    },
    {
      "cell_type": "markdown",
      "metadata": {
        "id": "CVuW0m7LHv34"
      },
      "source": [
        "To compute the spectral norm of A you can use np.linalg.norm(A, 2)"
      ]
    },
    {
      "cell_type": "code",
      "execution_count": 13,
      "metadata": {
        "id": "ePqnoPQLHv34"
      },
      "outputs": [],
      "source": [
        "def calculate_L(b, A):\n",
        "    \"\"\"Calculate the smoothness constant for f\"\"\"\n",
        "    eig = np.linalg.eigvals(A.T.dot(A))\n",
        "    L = max(eig)/(A.shape[0])           # same as doing np.linalg.norm(A.T.dot(A), 2) / (A.shape[0])\n",
        "    return L"
      ]
    },
    {
      "cell_type": "markdown",
      "metadata": {
        "id": "AuxIFi0QHv35"
      },
      "source": [
        "# Gradient Descent"
      ]
    },
    {
      "cell_type": "markdown",
      "metadata": {
        "id": "NqaTJMjPHv35"
      },
      "source": [
        "Please fill in the functions `compute_gradient` below:"
      ]
    },
    {
      "cell_type": "code",
      "execution_count": 14,
      "metadata": {
        "id": "nRFzOrp2Hv35"
      },
      "outputs": [],
      "source": [
        "def compute_gradient(b, A, x):\n",
        "    \"\"\"Compute the gradient.\"\"\"\n",
        "    Axmb = A.dot(x) - b\n",
        "    grad = A.T.dot(Axmb) / len(Axmb)\n",
        "    return grad, Axmb"
      ]
    },
    {
      "cell_type": "markdown",
      "metadata": {
        "id": "DN-WlR18Hv35"
      },
      "source": [
        "Please fill in the functions `gradient_descent` below:"
      ]
    },
    {
      "cell_type": "code",
      "execution_count": 15,
      "metadata": {
        "id": "kq_0bwyFHv35"
      },
      "outputs": [],
      "source": [
        "def gradient_descent(b, A, initial_x, max_iters, gamma):\n",
        "    \"\"\"Gradient descent algorithm.\"\"\"\n",
        "    # Define parameters to store x and objective func. values\n",
        "    xs = [initial_x]\n",
        "    objectives = []\n",
        "    x = initial_x\n",
        "    for n_iter in range(max_iters):\n",
        "        # compute objective, gradient\n",
        "        grad, Axmb = compute_gradient(b, A, x)\n",
        "        obj = calculate_objective(Axmb)\n",
        "        # update x by a gradient descent step\n",
        "        x = x - gamma * grad\n",
        "        # store x and objective function value\n",
        "        xs.append(x)\n",
        "        objectives.append(obj)\n",
        "        print(\"Gradient Descent({bi}/{ti}): objective={l}\".format(\n",
        "              bi=n_iter, ti=max_iters - 1, l=obj))\n",
        "\n",
        "    return objectives, xs"
      ]
    },
    {
      "cell_type": "markdown",
      "metadata": {
        "id": "-UMQR-ATHv36"
      },
      "source": [
        "Test your gradient descent function with a naive step size through gradient descent demo shown below:"
      ]
    },
    {
      "cell_type": "code",
      "execution_count": 16,
      "metadata": {
        "colab": {
          "base_uri": "https://localhost:8080/"
        },
        "id": "8zUVussAHv36",
        "outputId": "19092ad3-16ca-4fc0-fde7-d87877b6a16f"
      },
      "outputs": [
        {
          "output_type": "stream",
          "name": "stdout",
          "text": [
            "Gradient Descent(0/49): objective=2792.2367127591674\n",
            "Gradient Descent(1/49): objective=2264.6350560300025\n",
            "Gradient Descent(2/49): objective=1837.2777140793796\n",
            "Gradient Descent(3/49): objective=1491.1182670993746\n",
            "Gradient Descent(4/49): objective=1210.7291150455706\n",
            "Gradient Descent(5/49): objective=983.6139018819902\n",
            "Gradient Descent(6/49): objective=799.6505792194899\n",
            "Gradient Descent(7/49): objective=650.6402878628646\n",
            "Gradient Descent(8/49): objective=529.9419518639978\n",
            "Gradient Descent(9/49): objective=432.1762997049155\n",
            "Gradient Descent(10/49): objective=352.986121456059\n",
            "Gradient Descent(11/49): objective=288.8420770744855\n",
            "Gradient Descent(12/49): objective=236.8854011254107\n",
            "Gradient Descent(13/49): objective=194.8004936066604\n",
            "Gradient Descent(14/49): objective=160.71171851647264\n",
            "Gradient Descent(15/49): objective=133.09981069342047\n",
            "Gradient Descent(16/49): objective=110.73416535674808\n",
            "Gradient Descent(17/49): objective=92.61799263404352\n",
            "Gradient Descent(18/49): objective=77.94389272865284\n",
            "Gradient Descent(19/49): objective=66.0578718052864\n",
            "Gradient Descent(20/49): objective=56.43019485735959\n",
            "Gradient Descent(21/49): objective=48.63177652953886\n",
            "Gradient Descent(22/49): objective=42.31505768400409\n",
            "Gradient Descent(23/49): objective=37.198515419120916\n",
            "Gradient Descent(24/49): objective=33.05411618456554\n",
            "Gradient Descent(25/49): objective=29.69715280457569\n",
            "Gradient Descent(26/49): objective=26.97801246678392\n",
            "Gradient Descent(27/49): objective=24.77550879317254\n",
            "Gradient Descent(28/49): objective=22.99148081754737\n",
            "Gradient Descent(29/49): objective=21.546418157290944\n",
            "Gradient Descent(30/49): objective=20.375917402483257\n",
            "Gradient Descent(31/49): objective=19.42781179108901\n",
            "Gradient Descent(32/49): objective=18.659846245859693\n",
            "Gradient Descent(33/49): objective=18.037794154223942\n",
            "Gradient Descent(34/49): objective=17.53393195999899\n",
            "Gradient Descent(35/49): objective=17.125803582676767\n",
            "Gradient Descent(36/49): objective=16.795219597045776\n",
            "Gradient Descent(37/49): objective=16.527446568684663\n",
            "Gradient Descent(38/49): objective=16.310550415712164\n",
            "Gradient Descent(39/49): objective=16.134864531804435\n",
            "Gradient Descent(40/49): objective=15.992558965839178\n",
            "Gradient Descent(41/49): objective=15.877291457407319\n",
            "Gradient Descent(42/49): objective=15.783924775577509\n",
            "Gradient Descent(43/49): objective=15.70829776329537\n",
            "Gradient Descent(44/49): objective=15.647039883346832\n",
            "Gradient Descent(45/49): objective=15.597421000588525\n",
            "Gradient Descent(46/49): objective=15.557229705554294\n",
            "Gradient Descent(47/49): objective=15.52467475657656\n",
            "Gradient Descent(48/49): objective=15.498305247904602\n",
            "Gradient Descent(49/49): objective=15.476945945880312\n",
            "Gradient Descent: execution time=0.007 seconds\n"
          ]
        }
      ],
      "source": [
        "# from gradient_descent import *\n",
        "from plots import gradient_descent_visualization\n",
        "\n",
        "# Define the parameters of the algorithm.\n",
        "max_iters = 50\n",
        "\n",
        "gamma = 0.1\n",
        "\n",
        "# Initialization\n",
        "x_initial = np.zeros(A.shape[1])\n",
        "\n",
        "# Start gradient descent.\n",
        "start_time = datetime.datetime.now()\n",
        "gradient_objectives_naive, gradient_xs_naive = gradient_descent(b, A, x_initial, max_iters, gamma)\n",
        "end_time = datetime.datetime.now()\n",
        "\n",
        "# Print result\n",
        "exection_time = (end_time - start_time).total_seconds()\n",
        "print(\"Gradient Descent: execution time={t:.3f} seconds\".format(t=exection_time))"
      ]
    },
    {
      "cell_type": "markdown",
      "metadata": {
        "id": "BO2DqeN-Hv36"
      },
      "source": [
        "Time Visualization"
      ]
    },
    {
      "cell_type": "code",
      "execution_count": 17,
      "metadata": {
        "colab": {
          "base_uri": "https://localhost:8080/",
          "height": 666,
          "referenced_widgets": [
            "a2fc71bddf974bc392fc1f509ed9c991",
            "b8e189b0b73442b5a939a3d129d7b0d5",
            "65ef7c71b6b94eeb935ccf30c81bdd88",
            "687002c19add4377ace785fa50da4757",
            "a31c517bbd204dbc8ae9748b5a4f60e8",
            "ac178fa8ae9247a8830c1a4f7e892649",
            "0044f168375d41a399103dfa46251086"
          ]
        },
        "id": "WzgP52nvHv36",
        "outputId": "6e175c9b-7b72-4d59-f68d-064b184a544a"
      },
      "outputs": [
        {
          "output_type": "display_data",
          "data": {
            "text/plain": [
              "interactive(children=(IntSlider(value=1, description='n_iter', max=51, min=1), Output()), _dom_classes=('widge…"
            ],
            "application/vnd.jupyter.widget-view+json": {
              "version_major": 2,
              "version_minor": 0,
              "model_id": "a2fc71bddf974bc392fc1f509ed9c991"
            }
          },
          "metadata": {}
        },
        {
          "output_type": "execute_result",
          "data": {
            "text/plain": [
              "<function __main__.plot_figure(n_iter)>"
            ],
            "text/html": [
              "<div style=\"max-width:800px; border: 1px solid var(--colab-border-color);\"><style>\n",
              "      pre.function-repr-contents {\n",
              "        overflow-x: auto;\n",
              "        padding: 8px 12px;\n",
              "        max-height: 500px;\n",
              "      }\n",
              "\n",
              "      pre.function-repr-contents.function-repr-contents-collapsed {\n",
              "        cursor: pointer;\n",
              "        max-height: 100px;\n",
              "      }\n",
              "    </style>\n",
              "    <pre style=\"white-space: initial; background:\n",
              "         var(--colab-secondary-surface-color); padding: 8px 12px;\n",
              "         border-bottom: 1px solid var(--colab-border-color);\"><b>plot_figure</b><br/>def plot_figure(n_iter)</pre><pre class=\"function-repr-contents function-repr-contents-collapsed\" style=\"\"><a class=\"filepath\" style=\"display:none\" href=\"#\">/content/cloned-repo/labs/ex02/template/cloned-repo/labs/ex02/template/&lt;ipython-input-17-524c6856c862&gt;</a>&lt;no docstring&gt;</pre></div>"
            ]
          },
          "metadata": {},
          "execution_count": 17
        }
      ],
      "source": [
        "from ipywidgets import IntSlider, interact\n",
        "from grid_search import *\n",
        "\n",
        "def plot_figure(n_iter):\n",
        "    # Generate grid data for visualization (parameters to be swept and best combination)\n",
        "    grid_x0, grid_x1 = generate_w(num_intervals=10)\n",
        "    grid_objectives = grid_search(b, A, grid_x0, grid_x1)\n",
        "    obj_star, x0_star, x1_star = get_best_parameters(grid_x0, grid_x1, grid_objectives)\n",
        "\n",
        "    fig = gradient_descent_visualization(\n",
        "        gradient_objectives_naive, gradient_xs_naive, grid_objectives, grid_x0, grid_x1, mean_x, std_x, height, weight, n_iter)\n",
        "    fig.set_size_inches(10.0, 6.0)\n",
        "\n",
        "interact(plot_figure, n_iter=IntSlider(min=1, max=len(gradient_xs_naive)))"
      ]
    },
    {
      "cell_type": "markdown",
      "metadata": {
        "id": "oEh9dr2OHv36"
      },
      "source": [
        "Try doing gradient descent with a better learning rate"
      ]
    },
    {
      "cell_type": "code",
      "execution_count": 18,
      "metadata": {
        "colab": {
          "base_uri": "https://localhost:8080/"
        },
        "id": "313cg8sMHv37",
        "outputId": "10d79654-5341-42f6-8e73-4e44aab31cd5"
      },
      "outputs": [
        {
          "output_type": "stream",
          "name": "stdout",
          "text": [
            "Gradient Descent(0/49): objective=2792.2367127591674\n",
            "Gradient Descent(1/49): objective=15.385887868829403\n",
            "Gradient Descent(2/49): objective=15.3858878688294\n",
            "Gradient Descent(3/49): objective=15.3858878688294\n",
            "Gradient Descent(4/49): objective=15.3858878688294\n",
            "Gradient Descent(5/49): objective=15.3858878688294\n",
            "Gradient Descent(6/49): objective=15.3858878688294\n",
            "Gradient Descent(7/49): objective=15.3858878688294\n",
            "Gradient Descent(8/49): objective=15.3858878688294\n",
            "Gradient Descent(9/49): objective=15.3858878688294\n",
            "Gradient Descent(10/49): objective=15.3858878688294\n",
            "Gradient Descent(11/49): objective=15.3858878688294\n",
            "Gradient Descent(12/49): objective=15.3858878688294\n",
            "Gradient Descent(13/49): objective=15.3858878688294\n",
            "Gradient Descent(14/49): objective=15.3858878688294\n",
            "Gradient Descent(15/49): objective=15.3858878688294\n",
            "Gradient Descent(16/49): objective=15.3858878688294\n",
            "Gradient Descent(17/49): objective=15.3858878688294\n",
            "Gradient Descent(18/49): objective=15.3858878688294\n",
            "Gradient Descent(19/49): objective=15.3858878688294\n",
            "Gradient Descent(20/49): objective=15.3858878688294\n",
            "Gradient Descent(21/49): objective=15.3858878688294\n",
            "Gradient Descent(22/49): objective=15.3858878688294\n",
            "Gradient Descent(23/49): objective=15.3858878688294\n",
            "Gradient Descent(24/49): objective=15.3858878688294\n",
            "Gradient Descent(25/49): objective=15.3858878688294\n",
            "Gradient Descent(26/49): objective=15.3858878688294\n",
            "Gradient Descent(27/49): objective=15.3858878688294\n",
            "Gradient Descent(28/49): objective=15.3858878688294\n",
            "Gradient Descent(29/49): objective=15.3858878688294\n",
            "Gradient Descent(30/49): objective=15.3858878688294\n",
            "Gradient Descent(31/49): objective=15.3858878688294\n",
            "Gradient Descent(32/49): objective=15.3858878688294\n",
            "Gradient Descent(33/49): objective=15.3858878688294\n",
            "Gradient Descent(34/49): objective=15.3858878688294\n",
            "Gradient Descent(35/49): objective=15.3858878688294\n",
            "Gradient Descent(36/49): objective=15.3858878688294\n",
            "Gradient Descent(37/49): objective=15.3858878688294\n",
            "Gradient Descent(38/49): objective=15.3858878688294\n",
            "Gradient Descent(39/49): objective=15.3858878688294\n",
            "Gradient Descent(40/49): objective=15.3858878688294\n",
            "Gradient Descent(41/49): objective=15.3858878688294\n",
            "Gradient Descent(42/49): objective=15.3858878688294\n",
            "Gradient Descent(43/49): objective=15.3858878688294\n",
            "Gradient Descent(44/49): objective=15.3858878688294\n",
            "Gradient Descent(45/49): objective=15.3858878688294\n",
            "Gradient Descent(46/49): objective=15.3858878688294\n",
            "Gradient Descent(47/49): objective=15.3858878688294\n",
            "Gradient Descent(48/49): objective=15.3858878688294\n",
            "Gradient Descent(49/49): objective=15.3858878688294\n",
            "Gradient Descent: execution time=0.004 seconds\n"
          ]
        }
      ],
      "source": [
        "# Define the parameters of the algorithm.\n",
        "max_iters = 50\n",
        "\n",
        "L = calculate_L(b, A)\n",
        "gamma = 1/L\n",
        "\n",
        "# Initialization\n",
        "x_initial = np.zeros(A.shape[1])\n",
        "\n",
        "# Start gradient descent.\n",
        "start_time = datetime.datetime.now()\n",
        "gradient_objectives, gradient_xs = gradient_descent(b, A, x_initial, max_iters, gamma)\n",
        "end_time = datetime.datetime.now()\n",
        "\n",
        "# Print result\n",
        "exection_time = (end_time - start_time).total_seconds()\n",
        "print(\"Gradient Descent: execution time={t:.3f} seconds\".format(t=exection_time))"
      ]
    },
    {
      "cell_type": "markdown",
      "metadata": {
        "id": "Nfr4Tt5YHv37"
      },
      "source": [
        "Time visualization with a better learning rate"
      ]
    },
    {
      "cell_type": "code",
      "execution_count": 19,
      "metadata": {
        "colab": {
          "base_uri": "https://localhost:8080/",
          "height": 666,
          "referenced_widgets": [
            "7628a1cd07fc42c2bdeb5a2630ad17ca",
            "e9c2a557a1954fa4b75e7797be7f51e9",
            "34ebfee92e044c6b8708bb2b5d62f458",
            "35c26150050b41b38527ab2f850ef102",
            "626026e3ea9a48be9c4e97ab6c257be0",
            "37477adc95b4456fb9233fd4309477de",
            "c7856e18c54a4ab6828de669969151c5"
          ]
        },
        "id": "9mujR3ZLHv37",
        "outputId": "d672ea05-c37a-4440-bdf0-b174f615a583"
      },
      "outputs": [
        {
          "output_type": "display_data",
          "data": {
            "text/plain": [
              "interactive(children=(IntSlider(value=1, description='n_iter', max=51, min=1), Output()), _dom_classes=('widge…"
            ],
            "application/vnd.jupyter.widget-view+json": {
              "version_major": 2,
              "version_minor": 0,
              "model_id": "7628a1cd07fc42c2bdeb5a2630ad17ca"
            }
          },
          "metadata": {}
        },
        {
          "output_type": "execute_result",
          "data": {
            "text/plain": [
              "<function __main__.plot_figure(n_iter)>"
            ],
            "text/html": [
              "<div style=\"max-width:800px; border: 1px solid var(--colab-border-color);\"><style>\n",
              "      pre.function-repr-contents {\n",
              "        overflow-x: auto;\n",
              "        padding: 8px 12px;\n",
              "        max-height: 500px;\n",
              "      }\n",
              "\n",
              "      pre.function-repr-contents.function-repr-contents-collapsed {\n",
              "        cursor: pointer;\n",
              "        max-height: 100px;\n",
              "      }\n",
              "    </style>\n",
              "    <pre style=\"white-space: initial; background:\n",
              "         var(--colab-secondary-surface-color); padding: 8px 12px;\n",
              "         border-bottom: 1px solid var(--colab-border-color);\"><b>plot_figure</b><br/>def plot_figure(n_iter)</pre><pre class=\"function-repr-contents function-repr-contents-collapsed\" style=\"\"><a class=\"filepath\" style=\"display:none\" href=\"#\">/content/cloned-repo/labs/ex02/template/cloned-repo/labs/ex02/template/&lt;ipython-input-19-acd7124ba846&gt;</a>&lt;no docstring&gt;</pre></div>"
            ]
          },
          "metadata": {},
          "execution_count": 19
        }
      ],
      "source": [
        "def plot_figure(n_iter):\n",
        "    # Generate grid data for visualization (parameters to be swept and best combination)\n",
        "    grid_x0, grid_x1 = generate_w(num_intervals=10)\n",
        "    grid_objectives = grid_search(b, A, grid_x0, grid_x1)\n",
        "    obj_star, x0_star, x1_star = get_best_parameters(grid_x0, grid_x1, grid_objectives)\n",
        "\n",
        "    fig = gradient_descent_visualization(\n",
        "        gradient_objectives, gradient_xs, grid_objectives, grid_x0, grid_x1, mean_x, std_x, height, weight, n_iter)\n",
        "    fig.set_size_inches(10.0, 6.0)\n",
        "\n",
        "interact(plot_figure, n_iter=IntSlider(min=1, max=len(gradient_xs)))"
      ]
    },
    {
      "cell_type": "markdown",
      "metadata": {
        "id": "5MsZm3noHv37"
      },
      "source": [
        "# Loading more complex data\n",
        "The data is taken from https://archive.ics.uci.edu/ml/datasets/Concrete+Compressive+Strength"
      ]
    },
    {
      "cell_type": "code",
      "execution_count": null,
      "metadata": {
        "id": "EUuuRtQLHv37"
      },
      "outputs": [],
      "source": [
        "data = np.loadtxt(\"Concrete_Data.csv\",delimiter=\",\")\n",
        "\"\"\"Note that running this part will change the A above, and it will cause error in the interaction plot!\"\"\"\n",
        "A = data[:,:-1]\n",
        "b = data[:,-1]\n",
        "A, mean_A, std_A = standardize(A)"
      ]
    },
    {
      "cell_type": "code",
      "execution_count": null,
      "metadata": {
        "id": "4l3CnrrQHv37"
      },
      "outputs": [],
      "source": [
        "print('Number of samples n = ', b.shape[0])\n",
        "print('Dimension of each sample d = ', A.shape[1])"
      ]
    },
    {
      "cell_type": "markdown",
      "metadata": {
        "id": "Ql_EiqI2Hv37"
      },
      "source": [
        "# Running gradient descent"
      ]
    },
    {
      "cell_type": "markdown",
      "metadata": {
        "id": "lNh-NniTHv38"
      },
      "source": [
        "## Assuming bounded gradients\n",
        "Assume we are moving in a bounded region $\\|x\\| \\leq 25$ containing all iterates (and we assume $\\|x-x^\\star\\| \\leq 25$ as well, for simplicity). Then by $\\nabla f(x) = \\frac{1}{n}A^\\top (Ax - b)$, one can see that $f$ is Lipschitz over that bounded region, with Lipschitz constant $\\|\\nabla f(x)\\| \\leq \\frac{1}{n} (\\|A^\\top A\\|\\|x\\| + \\|A^\\top b\\|)$"
      ]
    },
    {
      "cell_type": "code",
      "execution_count": null,
      "metadata": {
        "id": "Lks4Hd44Hv38"
      },
      "outputs": [],
      "source": [
        "# ***************************************************\n",
        "# INSERT YOUR CODE HERE\n",
        "# TODO: Compute the bound on the gradient norm\n",
        "# ***************************************************\n",
        "grad_norm_bound =\n",
        "raise NotImplementedError"
      ]
    },
    {
      "cell_type": "markdown",
      "metadata": {
        "id": "z-4bH8DmHv38"
      },
      "source": [
        "Fill in the learning rate assuming bounded gradients"
      ]
    },
    {
      "cell_type": "code",
      "execution_count": null,
      "metadata": {
        "id": "9Vxst0unHv38"
      },
      "outputs": [],
      "source": [
        "max_iters = 50\n",
        "\n",
        "# ***************************************************\n",
        "# INSERT YOUR CODE HERE\n",
        "# TODO: Compute learning rate based on bounded gradient\n",
        "# ***************************************************\n",
        "gamma =\n",
        "raise NotImplementedError\n",
        "\n",
        "# Initialization\n",
        "x_initial = np.zeros(A.shape[1])\n",
        "\n",
        "# Start gradient descent.\n",
        "start_time = datetime.datetime.now()\n",
        "bd_gradient_objectives, bd_gradient_xs = gradient_descent(b, A, x_initial, max_iters, gamma)\n",
        "end_time = datetime.datetime.now()\n",
        "\n",
        "\n",
        "# Print result\n",
        "exection_time = (end_time - start_time).total_seconds()\n",
        "print(\"Gradient Descent: execution time={t:.3f} seconds\".format(t=exection_time))\n",
        "\n",
        "# Averaging the iterates as is the case for bounded gradients case\n",
        "bd_gradient_objectives_averaged = []\n",
        "for i in range(len(bd_gradient_xs)):\n",
        "    if i > 0:\n",
        "        bd_gradient_xs[i] = (i * bd_gradient_xs[i-1] + bd_gradient_xs[i])/(i + 1)\n",
        "    grad, err = compute_gradient(b, A, bd_gradient_xs[i])\n",
        "    obj = calculate_objective(err)\n",
        "    bd_gradient_objectives_averaged.append(obj)"
      ]
    },
    {
      "cell_type": "markdown",
      "metadata": {
        "id": "qv1iUOFWHv38"
      },
      "source": [
        "## Gradient descent using smoothness\n",
        "Fill in the learning rate using smoothness of the function"
      ]
    },
    {
      "cell_type": "code",
      "execution_count": null,
      "metadata": {
        "id": "jlSzQeXCHv38"
      },
      "outputs": [],
      "source": [
        "max_iters = 50\n",
        "\n",
        "\n",
        "# ***************************************************\n",
        "# INSERT YOUR CODE HERE\n",
        "# TODO: a better learning rate using the smoothness of f\n",
        "# ***************************************************\n",
        "gamma =\n",
        "raise NotImplementedError\n",
        "\n",
        "# Initialization\n",
        "x_initial = np.zeros(A.shape[1])\n",
        "\n",
        "# Start gradient descent.\n",
        "start_time = datetime.datetime.now()\n",
        "gradient_objectives, gradient_xs = gradient_descent(b, A, x_initial, max_iters, gamma)\n",
        "end_time = datetime.datetime.now()\n",
        "\n",
        "# Print result\n",
        "exection_time = (end_time - start_time).total_seconds()\n",
        "print(\"Gradient Descent: execution time={t:.3f} seconds\".format(t=exection_time))"
      ]
    },
    {
      "cell_type": "markdown",
      "metadata": {
        "id": "obqFCh9QHv39"
      },
      "source": [
        "## Plotting the Evolution of the Objective Function"
      ]
    },
    {
      "cell_type": "code",
      "execution_count": null,
      "metadata": {
        "id": "SoBPm_tlHv39"
      },
      "outputs": [],
      "source": [
        "plt.figure(figsize=(8, 8))\n",
        "plt.xlabel('Number of steps')\n",
        "plt.ylabel('Objective Function')\n",
        "#plt.yscale(\"log\")\n",
        "plt.plot(range(len(gradient_objectives)), gradient_objectives,'r', label='gradient descent with 1/L stepsize')\n",
        "plt.plot(range(len(bd_gradient_objectives)), bd_gradient_objectives,'b', label='gradient descent assuming bounded gradients')\n",
        "plt.plot(range(len(bd_gradient_objectives_averaged)), bd_gradient_objectives_averaged,'g', label='gradient descent assuming bounded gradients with averaged iterates')\n",
        "plt.legend(loc='upper right')\n",
        "plt.show()"
      ]
    }
  ],
  "metadata": {
    "anaconda-cloud": {},
    "kernelspec": {
      "display_name": "Python 3",
      "language": "python",
      "name": "python3"
    },
    "language_info": {
      "codemirror_mode": {
        "name": "ipython",
        "version": 3
      },
      "file_extension": ".py",
      "mimetype": "text/x-python",
      "name": "python",
      "nbconvert_exporter": "python",
      "pygments_lexer": "ipython3",
      "version": "3.7.4"
    },
    "widgets": {
      "application/vnd.jupyter.widget-state+json": {
        "a2fc71bddf974bc392fc1f509ed9c991": {
          "model_module": "@jupyter-widgets/controls",
          "model_name": "VBoxModel",
          "model_module_version": "1.5.0",
          "state": {
            "_dom_classes": [
              "widget-interact"
            ],
            "_model_module": "@jupyter-widgets/controls",
            "_model_module_version": "1.5.0",
            "_model_name": "VBoxModel",
            "_view_count": null,
            "_view_module": "@jupyter-widgets/controls",
            "_view_module_version": "1.5.0",
            "_view_name": "VBoxView",
            "box_style": "",
            "children": [
              "IPY_MODEL_b8e189b0b73442b5a939a3d129d7b0d5",
              "IPY_MODEL_65ef7c71b6b94eeb935ccf30c81bdd88"
            ],
            "layout": "IPY_MODEL_687002c19add4377ace785fa50da4757"
          }
        },
        "b8e189b0b73442b5a939a3d129d7b0d5": {
          "model_module": "@jupyter-widgets/controls",
          "model_name": "IntSliderModel",
          "model_module_version": "1.5.0",
          "state": {
            "_dom_classes": [],
            "_model_module": "@jupyter-widgets/controls",
            "_model_module_version": "1.5.0",
            "_model_name": "IntSliderModel",
            "_view_count": null,
            "_view_module": "@jupyter-widgets/controls",
            "_view_module_version": "1.5.0",
            "_view_name": "IntSliderView",
            "continuous_update": true,
            "description": "n_iter",
            "description_tooltip": null,
            "disabled": false,
            "layout": "IPY_MODEL_a31c517bbd204dbc8ae9748b5a4f60e8",
            "max": 51,
            "min": 1,
            "orientation": "horizontal",
            "readout": true,
            "readout_format": "d",
            "step": 1,
            "style": "IPY_MODEL_ac178fa8ae9247a8830c1a4f7e892649",
            "value": 1
          }
        },
        "65ef7c71b6b94eeb935ccf30c81bdd88": {
          "model_module": "@jupyter-widgets/output",
          "model_name": "OutputModel",
          "model_module_version": "1.0.0",
          "state": {
            "_dom_classes": [],
            "_model_module": "@jupyter-widgets/output",
            "_model_module_version": "1.0.0",
            "_model_name": "OutputModel",
            "_view_count": null,
            "_view_module": "@jupyter-widgets/output",
            "_view_module_version": "1.0.0",
            "_view_name": "OutputView",
            "layout": "IPY_MODEL_0044f168375d41a399103dfa46251086",
            "msg_id": "",
            "outputs": [
              {
                "output_type": "display_data",
                "data": {
                  "text/plain": "<Figure size 1000x600 with 2 Axes>",
                  "image/png": "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\n"
                },
                "metadata": {}
              }
            ]
          }
        },
        "687002c19add4377ace785fa50da4757": {
          "model_module": "@jupyter-widgets/base",
          "model_name": "LayoutModel",
          "model_module_version": "1.2.0",
          "state": {
            "_model_module": "@jupyter-widgets/base",
            "_model_module_version": "1.2.0",
            "_model_name": "LayoutModel",
            "_view_count": null,
            "_view_module": "@jupyter-widgets/base",
            "_view_module_version": "1.2.0",
            "_view_name": "LayoutView",
            "align_content": null,
            "align_items": null,
            "align_self": null,
            "border": null,
            "bottom": null,
            "display": null,
            "flex": null,
            "flex_flow": null,
            "grid_area": null,
            "grid_auto_columns": null,
            "grid_auto_flow": null,
            "grid_auto_rows": null,
            "grid_column": null,
            "grid_gap": null,
            "grid_row": null,
            "grid_template_areas": null,
            "grid_template_columns": null,
            "grid_template_rows": null,
            "height": null,
            "justify_content": null,
            "justify_items": null,
            "left": null,
            "margin": null,
            "max_height": null,
            "max_width": null,
            "min_height": null,
            "min_width": null,
            "object_fit": null,
            "object_position": null,
            "order": null,
            "overflow": null,
            "overflow_x": null,
            "overflow_y": null,
            "padding": null,
            "right": null,
            "top": null,
            "visibility": null,
            "width": null
          }
        },
        "a31c517bbd204dbc8ae9748b5a4f60e8": {
          "model_module": "@jupyter-widgets/base",
          "model_name": "LayoutModel",
          "model_module_version": "1.2.0",
          "state": {
            "_model_module": "@jupyter-widgets/base",
            "_model_module_version": "1.2.0",
            "_model_name": "LayoutModel",
            "_view_count": null,
            "_view_module": "@jupyter-widgets/base",
            "_view_module_version": "1.2.0",
            "_view_name": "LayoutView",
            "align_content": null,
            "align_items": null,
            "align_self": null,
            "border": null,
            "bottom": null,
            "display": null,
            "flex": null,
            "flex_flow": null,
            "grid_area": null,
            "grid_auto_columns": null,
            "grid_auto_flow": null,
            "grid_auto_rows": null,
            "grid_column": null,
            "grid_gap": null,
            "grid_row": null,
            "grid_template_areas": null,
            "grid_template_columns": null,
            "grid_template_rows": null,
            "height": null,
            "justify_content": null,
            "justify_items": null,
            "left": null,
            "margin": null,
            "max_height": null,
            "max_width": null,
            "min_height": null,
            "min_width": null,
            "object_fit": null,
            "object_position": null,
            "order": null,
            "overflow": null,
            "overflow_x": null,
            "overflow_y": null,
            "padding": null,
            "right": null,
            "top": null,
            "visibility": null,
            "width": null
          }
        },
        "ac178fa8ae9247a8830c1a4f7e892649": {
          "model_module": "@jupyter-widgets/controls",
          "model_name": "SliderStyleModel",
          "model_module_version": "1.5.0",
          "state": {
            "_model_module": "@jupyter-widgets/controls",
            "_model_module_version": "1.5.0",
            "_model_name": "SliderStyleModel",
            "_view_count": null,
            "_view_module": "@jupyter-widgets/base",
            "_view_module_version": "1.2.0",
            "_view_name": "StyleView",
            "description_width": "",
            "handle_color": null
          }
        },
        "0044f168375d41a399103dfa46251086": {
          "model_module": "@jupyter-widgets/base",
          "model_name": "LayoutModel",
          "model_module_version": "1.2.0",
          "state": {
            "_model_module": "@jupyter-widgets/base",
            "_model_module_version": "1.2.0",
            "_model_name": "LayoutModel",
            "_view_count": null,
            "_view_module": "@jupyter-widgets/base",
            "_view_module_version": "1.2.0",
            "_view_name": "LayoutView",
            "align_content": null,
            "align_items": null,
            "align_self": null,
            "border": null,
            "bottom": null,
            "display": null,
            "flex": null,
            "flex_flow": null,
            "grid_area": null,
            "grid_auto_columns": null,
            "grid_auto_flow": null,
            "grid_auto_rows": null,
            "grid_column": null,
            "grid_gap": null,
            "grid_row": null,
            "grid_template_areas": null,
            "grid_template_columns": null,
            "grid_template_rows": null,
            "height": null,
            "justify_content": null,
            "justify_items": null,
            "left": null,
            "margin": null,
            "max_height": null,
            "max_width": null,
            "min_height": null,
            "min_width": null,
            "object_fit": null,
            "object_position": null,
            "order": null,
            "overflow": null,
            "overflow_x": null,
            "overflow_y": null,
            "padding": null,
            "right": null,
            "top": null,
            "visibility": null,
            "width": null
          }
        },
        "7628a1cd07fc42c2bdeb5a2630ad17ca": {
          "model_module": "@jupyter-widgets/controls",
          "model_name": "VBoxModel",
          "model_module_version": "1.5.0",
          "state": {
            "_dom_classes": [
              "widget-interact"
            ],
            "_model_module": "@jupyter-widgets/controls",
            "_model_module_version": "1.5.0",
            "_model_name": "VBoxModel",
            "_view_count": null,
            "_view_module": "@jupyter-widgets/controls",
            "_view_module_version": "1.5.0",
            "_view_name": "VBoxView",
            "box_style": "",
            "children": [
              "IPY_MODEL_e9c2a557a1954fa4b75e7797be7f51e9",
              "IPY_MODEL_34ebfee92e044c6b8708bb2b5d62f458"
            ],
            "layout": "IPY_MODEL_35c26150050b41b38527ab2f850ef102"
          }
        },
        "e9c2a557a1954fa4b75e7797be7f51e9": {
          "model_module": "@jupyter-widgets/controls",
          "model_name": "IntSliderModel",
          "model_module_version": "1.5.0",
          "state": {
            "_dom_classes": [],
            "_model_module": "@jupyter-widgets/controls",
            "_model_module_version": "1.5.0",
            "_model_name": "IntSliderModel",
            "_view_count": null,
            "_view_module": "@jupyter-widgets/controls",
            "_view_module_version": "1.5.0",
            "_view_name": "IntSliderView",
            "continuous_update": true,
            "description": "n_iter",
            "description_tooltip": null,
            "disabled": false,
            "layout": "IPY_MODEL_626026e3ea9a48be9c4e97ab6c257be0",
            "max": 51,
            "min": 1,
            "orientation": "horizontal",
            "readout": true,
            "readout_format": "d",
            "step": 1,
            "style": "IPY_MODEL_37477adc95b4456fb9233fd4309477de",
            "value": 14
          }
        },
        "34ebfee92e044c6b8708bb2b5d62f458": {
          "model_module": "@jupyter-widgets/output",
          "model_name": "OutputModel",
          "model_module_version": "1.0.0",
          "state": {
            "_dom_classes": [],
            "_model_module": "@jupyter-widgets/output",
            "_model_module_version": "1.0.0",
            "_model_name": "OutputModel",
            "_view_count": null,
            "_view_module": "@jupyter-widgets/output",
            "_view_module_version": "1.0.0",
            "_view_name": "OutputView",
            "layout": "IPY_MODEL_c7856e18c54a4ab6828de669969151c5",
            "msg_id": "",
            "outputs": [
              {
                "output_type": "display_data",
                "data": {
                  "text/plain": "<Figure size 1000x600 with 2 Axes>",
                  "image/png": "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\n"
                },
                "metadata": {}
              }
            ]
          }
        },
        "35c26150050b41b38527ab2f850ef102": {
          "model_module": "@jupyter-widgets/base",
          "model_name": "LayoutModel",
          "model_module_version": "1.2.0",
          "state": {
            "_model_module": "@jupyter-widgets/base",
            "_model_module_version": "1.2.0",
            "_model_name": "LayoutModel",
            "_view_count": null,
            "_view_module": "@jupyter-widgets/base",
            "_view_module_version": "1.2.0",
            "_view_name": "LayoutView",
            "align_content": null,
            "align_items": null,
            "align_self": null,
            "border": null,
            "bottom": null,
            "display": null,
            "flex": null,
            "flex_flow": null,
            "grid_area": null,
            "grid_auto_columns": null,
            "grid_auto_flow": null,
            "grid_auto_rows": null,
            "grid_column": null,
            "grid_gap": null,
            "grid_row": null,
            "grid_template_areas": null,
            "grid_template_columns": null,
            "grid_template_rows": null,
            "height": null,
            "justify_content": null,
            "justify_items": null,
            "left": null,
            "margin": null,
            "max_height": null,
            "max_width": null,
            "min_height": null,
            "min_width": null,
            "object_fit": null,
            "object_position": null,
            "order": null,
            "overflow": null,
            "overflow_x": null,
            "overflow_y": null,
            "padding": null,
            "right": null,
            "top": null,
            "visibility": null,
            "width": null
          }
        },
        "626026e3ea9a48be9c4e97ab6c257be0": {
          "model_module": "@jupyter-widgets/base",
          "model_name": "LayoutModel",
          "model_module_version": "1.2.0",
          "state": {
            "_model_module": "@jupyter-widgets/base",
            "_model_module_version": "1.2.0",
            "_model_name": "LayoutModel",
            "_view_count": null,
            "_view_module": "@jupyter-widgets/base",
            "_view_module_version": "1.2.0",
            "_view_name": "LayoutView",
            "align_content": null,
            "align_items": null,
            "align_self": null,
            "border": null,
            "bottom": null,
            "display": null,
            "flex": null,
            "flex_flow": null,
            "grid_area": null,
            "grid_auto_columns": null,
            "grid_auto_flow": null,
            "grid_auto_rows": null,
            "grid_column": null,
            "grid_gap": null,
            "grid_row": null,
            "grid_template_areas": null,
            "grid_template_columns": null,
            "grid_template_rows": null,
            "height": null,
            "justify_content": null,
            "justify_items": null,
            "left": null,
            "margin": null,
            "max_height": null,
            "max_width": null,
            "min_height": null,
            "min_width": null,
            "object_fit": null,
            "object_position": null,
            "order": null,
            "overflow": null,
            "overflow_x": null,
            "overflow_y": null,
            "padding": null,
            "right": null,
            "top": null,
            "visibility": null,
            "width": null
          }
        },
        "37477adc95b4456fb9233fd4309477de": {
          "model_module": "@jupyter-widgets/controls",
          "model_name": "SliderStyleModel",
          "model_module_version": "1.5.0",
          "state": {
            "_model_module": "@jupyter-widgets/controls",
            "_model_module_version": "1.5.0",
            "_model_name": "SliderStyleModel",
            "_view_count": null,
            "_view_module": "@jupyter-widgets/base",
            "_view_module_version": "1.2.0",
            "_view_name": "StyleView",
            "description_width": "",
            "handle_color": null
          }
        },
        "c7856e18c54a4ab6828de669969151c5": {
          "model_module": "@jupyter-widgets/base",
          "model_name": "LayoutModel",
          "model_module_version": "1.2.0",
          "state": {
            "_model_module": "@jupyter-widgets/base",
            "_model_module_version": "1.2.0",
            "_model_name": "LayoutModel",
            "_view_count": null,
            "_view_module": "@jupyter-widgets/base",
            "_view_module_version": "1.2.0",
            "_view_name": "LayoutView",
            "align_content": null,
            "align_items": null,
            "align_self": null,
            "border": null,
            "bottom": null,
            "display": null,
            "flex": null,
            "flex_flow": null,
            "grid_area": null,
            "grid_auto_columns": null,
            "grid_auto_flow": null,
            "grid_auto_rows": null,
            "grid_column": null,
            "grid_gap": null,
            "grid_row": null,
            "grid_template_areas": null,
            "grid_template_columns": null,
            "grid_template_rows": null,
            "height": null,
            "justify_content": null,
            "justify_items": null,
            "left": null,
            "margin": null,
            "max_height": null,
            "max_width": null,
            "min_height": null,
            "min_width": null,
            "object_fit": null,
            "object_position": null,
            "order": null,
            "overflow": null,
            "overflow_x": null,
            "overflow_y": null,
            "padding": null,
            "right": null,
            "top": null,
            "visibility": null,
            "width": null
          }
        }
      }
    },
    "colab": {
      "provenance": []
    }
  },
  "nbformat": 4,
  "nbformat_minor": 0
}